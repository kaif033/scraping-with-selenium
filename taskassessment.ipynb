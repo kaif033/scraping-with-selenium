{
 "cells": [
  {
   "cell_type": "code",
   "execution_count": 1,
   "metadata": {},
   "outputs": [],
   "source": [
    "#Import Packages\n",
    "from selenium import webdriver\n",
    "import time\n",
    "import pandas as pd\n",
    "from selenium.webdriver.support.select import Select\n",
    "from selenium.webdriver.support.ui import WebDriverWait\n",
    "from selenium.webdriver.common.by import By\n",
    "from selenium.webdriver.support import expected_conditions as EC\n",
    "from selenium.webdriver.common.keys import Keys"
   ]
  },
  {
   "cell_type": "code",
   "execution_count": 2,
   "metadata": {},
   "outputs": [],
   "source": [
    "from selenium import webdriver\n",
    "from selenium.webdriver.common.by import By\n",
    "from selenium.webdriver.support.ui import Select, WebDriverWait\n",
    "from selenium.webdriver.support import expected_conditions as EC\n",
    "import time\n",
    "import pandas as pd\n",
    "\n",
    "driver = webdriver.Chrome()\n",
    "driver.get('https://www.adamchoi.co.uk/overs/detailed')\n",
    "\n",
    "all_matches_button = WebDriverWait(driver, 10).until(\n",
    "    EC.element_to_be_clickable((By.XPATH, '/html/body/div[2]/div/div/div[2]/div/home-away-selector/div/div/div/div/label[2]'))\n",
    ")\n",
    "all_matches_button.click()\n",
    "\n",
    "dropdown = Select(WebDriverWait(driver, 10).until(\n",
    "    EC.presence_of_element_located((By.XPATH, '/html/body/div[2]/div/div/div[2]/div/country-select/div/div/div/div[2]/div[1]/div/select'))\n",
    "))\n",
    "\n",
    "all_data = []\n",
    "for j in range(10):  # Iterate through 34 options (0 to 33)\n",
    "    dropdown.select_by_index(j)\n",
    "    time.sleep(4)\n",
    "\n",
    "    table_rows = WebDriverWait(driver, 10).until(\n",
    "        EC.presence_of_all_elements_located((By.TAG_NAME, 'tr'))\n",
    "    )\n",
    "\n",
    "    page_data = []\n",
    "    for i, rows in enumerate(table_rows):\n",
    "        try:\n",
    "            date = rows.find_element(By.XPATH, './td[1]').text\n",
    "            home_team = rows.find_element(By.XPATH, './td[2]').text\n",
    "            score = rows.find_element(By.XPATH, './td[3]').text\n",
    "            away_team = rows.find_element(By.XPATH, './td[4]').text\n",
    "        except:\n",
    "            date = \"not found\"\n",
    "            home_team = \"not found\"\n",
    "            score = \"not found\"\n",
    "            away_team = \"not found\"\n",
    "            print(f\"Row {i+1}: Some elements not found.\")\n",
    "\n",
    "        page_data.append([date, home_team, score, away_team])\n",
    "\n",
    "    all_data.extend(page_data)\n",
    "\n",
    "df = pd.DataFrame(all_data, columns=['date', 'home_team', 'score', 'away_team'])\n",
    "\n",
    "\n"
   ]
  },
  {
   "cell_type": "code",
   "execution_count": 4,
   "metadata": {},
   "outputs": [],
   "source": [
    "df.to_csv(\"adamchoi.assement\")"
   ]
  }
 ],
 "metadata": {
  "kernelspec": {
   "display_name": "Python 3",
   "language": "python",
   "name": "python3"
  },
  "language_info": {
   "codemirror_mode": {
    "name": "ipython",
    "version": 3
   },
   "file_extension": ".py",
   "mimetype": "text/x-python",
   "name": "python",
   "nbconvert_exporter": "python",
   "pygments_lexer": "ipython3",
   "version": "3.11.4"
  }
 },
 "nbformat": 4,
 "nbformat_minor": 2
}
